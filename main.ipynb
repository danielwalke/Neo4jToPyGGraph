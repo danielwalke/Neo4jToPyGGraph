{
 "cells": [
  {
   "cell_type": "code",
   "execution_count": 1,
   "outputs": [],
   "source": [
    "from impl.GraphRetriever import GraphRetriever\n",
    "\n",
    "URI = \"bolt://localhost:7687\"\n",
    "AUTH = (\"neo4j\", \"password\")\n",
    "\n",
    "graphRetriever = GraphRetriever(URI, AUTH)"
   ],
   "metadata": {
    "collapsed": false
   }
  },
  {
   "cell_type": "code",
   "execution_count": 2,
   "outputs": [
    {
     "name": "stdout",
     "output_type": "stream",
     "text": [
      "Start loading the graph\n",
      "Start loading node types\n",
      "Loaded node types\n",
      "Start loading edge types\n",
      "Loaded edge types\n"
     ]
    }
   ],
   "source": [
    "print(\"Start loading the graph\")\n",
    "# graphRetriever.node_types = ['Disease', 'Tissue', 'Biological_process', 'Molecular_function', 'Cellular_component', 'Modification',\n",
    "#  'Phenotype', 'Experiment', 'Experimental_factor', 'Units', 'Chromosome', 'Gene', 'Transcript', 'Protein',\n",
    "#  'Amino_acid_sequence', 'Peptide', 'User', 'Project', 'Subject', 'Biological_sample', 'Analytical_sample',\n",
    "#  'Modified_protein', 'Clinical_variable', 'Complex', 'Food', 'Known_variant', 'Clinically_relevant_variant',\n",
    "#  'Publication', 'Functional_region', 'Metabolite', 'Protein_structure', 'GWAS_study', 'Pathway', 'Drug']\n",
    "# graphRetriever.edge_types = [('Disease', 'HAS_PARENT', 'Disease'), ('Experimental_factor', 'MAPS_TO', 'Disease'),\n",
    "#  ('Modified_protein', 'ASSOCIATED_WITH', 'Disease'), ('Protein', 'ASSOCIATED_WITH', 'Disease'),\n",
    "#  ('Clinically_relevant_variant', 'ASSOCIATED_WITH', 'Disease'),\n",
    "#  ('Protein', 'IS_BIOMARKER_OF_DISEASE', 'Disease'), ('Metabolite', 'ASSOCIATED_WITH', 'Disease'),\n",
    "#  ('Protein', 'DETECTED_IN_PATHOLOGY_SAMPLE', 'Disease'), ('Project', 'STUDIES_DISEASE', 'Disease'),\n",
    "#  ('Tissue', 'HAS_PARENT', 'Tissue'), ('Protein', 'ASSOCIATED_WITH', 'Tissue'),\n",
    "#  ('Protein', 'IS_QCMARKER_IN_TISSUE', 'Tissue'), ('Project', 'STUDIES_TISSUE', 'Tissue'),\n",
    "#  ('Protein', 'ASSOCIATED_WITH', 'Biological_process'),\n",
    "#  ('Biological_process', 'HAS_PARENT', 'Biological_process'),\n",
    "#  ('Complex', 'ASSOCIATED_WITH', 'Biological_process'),\n",
    "#  ('Modified_protein', 'ASSOCIATED_WITH', 'Biological_process'),\n",
    "#  ('Protein', 'ASSOCIATED_WITH', 'Molecular_function'),\n",
    "#  ('Molecular_function', 'HAS_PARENT', 'Molecular_function'),\n",
    "#  ('Protein', 'ASSOCIATED_WITH', 'Cellular_component'),\n",
    "#  ('Cellular_component', 'HAS_PARENT', 'Cellular_component'), ('Modification', 'HAS_PARENT', 'Modification'),\n",
    "#  ('Modified_protein', 'HAS_MODIFICATION', 'Modification'), ('Phenotype', 'HAS_PARENT', 'Phenotype'),\n",
    "#  ('Experimental_factor', 'MAPS_TO', 'Phenotype'), ('Experiment', 'HAS_PARENT', 'Experiment'),\n",
    "#  ('GWAS_study', 'STUDIES_TRAIT', 'Experimental_factor'),\n",
    "#  ('Experimental_factor', 'HAS_PARENT', 'Experimental_factor'), ('Units', 'HAS_PARENT', 'Units'),\n",
    "#  ('Transcript', 'LOCATED_IN', 'Chromosome'), ('Known_variant', 'VARIANT_FOUND_IN_CHROMOSOME', 'Chromosome'),\n",
    "#  ('Known_variant', 'VARIANT_FOUND_IN_GENE', 'Gene'), ('Drug', 'CURATED_TARGETS', 'Gene'),\n",
    "#  ('Gene', 'TRANSCRIBED_INTO', 'Transcript'), ('Peptide', 'BELONGS_TO_PROTEIN', 'Protein'),\n",
    "#  ('Transcript', 'TRANSLATED_INTO', 'Protein'), ('Gene', 'TRANSLATED_INTO', 'Protein'),\n",
    "#  ('Known_variant', 'VARIANT_FOUND_IN_PROTEIN', 'Protein'), ('Protein', 'CURATED_INTERACTS_WITH', 'Protein'),\n",
    "#  ('Protein', 'COMPILED_INTERACTS_WITH', 'Protein'), ('Drug', 'ACTS_ON', 'Protein'),\n",
    "#  ('Protein', 'ACTS_ON', 'Protein'), ('Drug', 'COMPILED_TARGETS', 'Protein'),\n",
    "#  ('Functional_region', 'FOUND_IN_PROTEIN', 'Protein'),\n",
    "#  ('Analytical_sample', 'HAS_QUANTIFIED_PROTEIN', 'Protein'), ('Metabolite', 'ASSOCIATED_WITH', 'Protein'),\n",
    "#  ('Modified_protein', 'IS_SUBSTRATE_OF', 'Protein'),\n",
    "#  ('Known_variant', 'CURATED_AFFECTS_INTERACTION_WITH', 'Protein'),\n",
    "#  ('Protein', 'HAS_SEQUENCE', 'Amino_acid_sequence'), ('User', 'IS_RESPONSIBLE', 'Project'),\n",
    "#  ('User', 'PARTICIPATES_IN', 'Project'), ('Biological_sample', 'BELONGS_TO_SUBJECT', 'Subject'),\n",
    "#  ('Project', 'HAS_ENROLLED', 'Subject'), ('Biological_sample', 'SPLITTED_INTO', 'Analytical_sample'),\n",
    "#  ('Protein', 'HAS_MODIFIED_SITE', 'Modified_protein'),\n",
    "#  ('Analytical_sample', 'HAS_QUANTIFIED_MODIFIED_PROTEIN', 'Modified_protein'),\n",
    "#  ('Peptide', 'HAS_MODIFIED_SITE', 'Modified_protein'), ('Clinical_variable', 'HAS_PARENT', 'Clinical_variable'),\n",
    "#  ('Experimental_factor', 'MAPS_TO', 'Clinical_variable'), ('Protein', 'IS_SUBUNIT_OF', 'Complex'),\n",
    "#  ('Drug', 'TARGETS_CLINICALLY_RELEVANT_VARIANT', 'Clinically_relevant_variant'),\n",
    "#  ('Known_variant', 'VARIANT_IS_CLINICALLY_RELEVANT', 'Clinically_relevant_variant'),\n",
    "#  ('Drug', 'MENTIONED_IN_PUBLICATION', 'Publication'), ('Disease', 'MENTIONED_IN_PUBLICATION', 'Publication'),\n",
    "#  ('Cellular_component', 'MENTIONED_IN_PUBLICATION', 'Publication'),\n",
    "#  ('Protein', 'MENTIONED_IN_PUBLICATION', 'Publication'), ('Tissue', 'MENTIONED_IN_PUBLICATION', 'Publication'),\n",
    "#  ('Functional_region', 'MENTIONED_IN_PUBLICATION', 'Publication'),\n",
    "#  ('GWAS_study', 'PUBLISHED_IN', 'Publication'), ('Modified_protein', 'MENTIONED_IN_PUBLICATION', 'Publication'),\n",
    "#  ('Protein', 'HAS_STRUCTURE', 'Protein_structure'), ('Known_variant', 'VARIANT_FOUND_IN_GWAS', 'GWAS_study'),\n",
    "#  ('Metabolite', 'ANNOTATED_IN_PATHWAY', 'Pathway'), ('Protein', 'ANNOTATED_IN_PATHWAY', 'Pathway'),\n",
    "#  ('Drug', 'INTERACTS_WITH', 'Drug')]\n",
    "print(\"Start loading node types\")\n",
    "graphRetriever.node_types = graphRetriever.query_all_node_types()\n",
    "print(\"Loaded node types\")\n",
    "print(\"Start loading edge types\")\n",
    "graphRetriever.edge_types = graphRetriever.query_all_edge_types()\n",
    "print(\"Loaded edge types\")"
   ],
   "metadata": {
    "collapsed": false
   }
  },
  {
   "cell_type": "code",
   "execution_count": 3,
   "outputs": [
    {
     "data": {
      "text/plain": "[('Patient', 'ATTENDED_BY', 'Doctor'),\n ('Doctor', 'WORKS_AT', 'Hospital'),\n ('Patient', 'DIAGNOSED_WITH', 'Disease'),\n ('Disease', 'PRESCRIBED_MEDICATION', 'Medication'),\n ('Patient', 'UNDERGOES_TEST', 'LabTest')]"
     },
     "execution_count": 3,
     "metadata": {},
     "output_type": "execute_result"
    }
   ],
   "source": [
    "graphRetriever.edge_types"
   ],
   "metadata": {
    "collapsed": false
   }
  },
  {
   "cell_type": "code",
   "execution_count": 4,
   "outputs": [
    {
     "name": "stdout",
     "output_type": "stream",
     "text": [
      "Start loading node ids\n",
      "Loaded node ids\n"
     ]
    }
   ],
   "source": [
    "print(\"Start loading node ids\")\n",
    "graphRetriever.set_id_dict()\n",
    "print(\"Loaded node ids\")"
   ],
   "metadata": {
    "collapsed": false
   }
  },
  {
   "cell_type": "code",
   "execution_count": 5,
   "outputs": [
    {
     "data": {
      "text/plain": "{'Patient': [0, 1],\n 'Doctor': [2, 3],\n 'Hospital': [4, 5],\n 'Disease': [6, 7],\n 'Medication': [8, 9],\n 'LabTest': [10, 11]}"
     },
     "execution_count": 5,
     "metadata": {},
     "output_type": "execute_result"
    }
   ],
   "source": [
    "graphRetriever.graph_object.ids_dict"
   ],
   "metadata": {
    "collapsed": false
   }
  },
  {
   "cell_type": "code",
   "execution_count": 6,
   "outputs": [
    {
     "name": "stdout",
     "output_type": "stream",
     "text": [
      "\n",
      "        Heterogeneous Graph(ids_dict: {'Patient': 2, 'Doctor': 2, 'Hospital': 2, 'Disease': 2, 'Medication': 2, 'LabTest': 2}, feature_dict: {}, edge_index_dict: {})\n",
      "        \n"
     ]
    }
   ],
   "source": [
    "print(graphRetriever.graph_object)"
   ],
   "metadata": {
    "collapsed": false
   }
  },
  {
   "cell_type": "code",
   "execution_count": 7,
   "outputs": [
    {
     "name": "stdout",
     "output_type": "stream",
     "text": [
      "Start creating id_to_idx dictionary\n",
      "Loaded dictionary id:node index\n"
     ]
    }
   ],
   "source": [
    "print(\"Start creating id_to_idx dictionary\")\n",
    "graphRetriever.set_id_to_idx_dict()\n",
    "print(\"Loaded dictionary id:node index\")"
   ],
   "metadata": {
    "collapsed": false
   }
  },
  {
   "cell_type": "code",
   "execution_count": 8,
   "outputs": [
    {
     "data": {
      "text/plain": "{'Patient': {0: 0, 1: 1},\n 'Doctor': {2: 0, 3: 1},\n 'Hospital': {4: 0, 5: 1},\n 'Disease': {6: 0, 7: 1},\n 'Medication': {8: 0, 9: 1},\n 'LabTest': {10: 0, 11: 1}}"
     },
     "execution_count": 8,
     "metadata": {},
     "output_type": "execute_result"
    }
   ],
   "source": [
    "graphRetriever.id_to_idx_dict"
   ],
   "metadata": {
    "collapsed": false
   }
  },
  {
   "cell_type": "code",
   "execution_count": 9,
   "outputs": [
    {
     "name": "stdout",
     "output_type": "stream",
     "text": [
      "Start loading edges\n",
      "[[0, 1], [2, 3]]\n",
      "[[2, 3], [4, 5]]\n",
      "[[0, 1], [6, 7]]\n",
      "[[6, 7], [8, 9]]\n",
      "[[0, 1], [10, 11]]\n",
      "Loaded edges\n",
      "Finished\n"
     ]
    }
   ],
   "source": [
    "print(\"Start loading edges\")\n",
    "graphRetriever.set_edge_dict()\n",
    "print(\"Loaded edges\")\n",
    "print(\"Finished\")\n",
    "# self.set_feature_dict()"
   ],
   "metadata": {
    "collapsed": false
   }
  },
  {
   "cell_type": "code",
   "execution_count": 10,
   "outputs": [
    {
     "data": {
      "text/plain": "{('Patient', 'ATTENDED_BY', 'Doctor'): ([0, 1], [0, 1]),\n ('Doctor', 'WORKS_AT', 'Hospital'): ([0, 1], [0, 1]),\n ('Patient', 'DIAGNOSED_WITH', 'Disease'): ([0, 1], [0, 1]),\n ('Disease', 'PRESCRIBED_MEDICATION', 'Medication'): ([0, 1], [0, 1]),\n ('Patient', 'UNDERGOES_TEST', 'LabTest'): ([0, 1], [0, 1])}"
     },
     "execution_count": 10,
     "metadata": {},
     "output_type": "execute_result"
    }
   ],
   "source": [
    "graphRetriever.graph_object.edge_index_dict"
   ],
   "metadata": {
    "collapsed": false
   }
  },
  {
   "cell_type": "code",
   "execution_count": null,
   "outputs": [],
   "source": [],
   "metadata": {
    "collapsed": false
   }
  }
 ],
 "metadata": {
  "kernelspec": {
   "display_name": "Python 3",
   "language": "python",
   "name": "python3"
  },
  "language_info": {
   "codemirror_mode": {
    "name": "ipython",
    "version": 2
   },
   "file_extension": ".py",
   "mimetype": "text/x-python",
   "name": "python",
   "nbconvert_exporter": "python",
   "pygments_lexer": "ipython2",
   "version": "2.7.6"
  }
 },
 "nbformat": 4,
 "nbformat_minor": 0
}
